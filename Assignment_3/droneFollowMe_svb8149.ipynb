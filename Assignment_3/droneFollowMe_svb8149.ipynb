{
 "cells": [
  {
   "cell_type": "code",
   "execution_count": null,
   "metadata": {},
   "outputs": [],
   "source": [
    "%pip install pytube"
   ]
  },
  {
   "cell_type": "code",
   "execution_count": null,
   "metadata": {},
   "outputs": [],
   "source": [
    "%pip install opencv-python"
   ]
  },
  {
   "cell_type": "code",
   "execution_count": null,
   "metadata": {
    "scrolled": true
   },
   "outputs": [],
   "source": [
    "%pip install ultralytics ultralyticsplus"
   ]
  },
  {
   "cell_type": "code",
   "execution_count": null,
   "metadata": {},
   "outputs": [],
   "source": [
    "%pip install filterpy"
   ]
  },
  {
   "cell_type": "code",
   "execution_count": null,
   "metadata": {
    "scrolled": true
   },
   "outputs": [],
   "source": [
    "from pytube import YouTube\n",
    "import cv2\n",
    "from filterpy.kalman import KalmanFilter\n",
    "import numpy as np\n",
    "from ultralyticsplus import YOLO\n",
    "import math"
   ]
  },
  {
   "cell_type": "code",
   "execution_count": null,
   "metadata": {},
   "outputs": [],
   "source": [
    "def download_videos(video_urls, save_path):\n",
    "    try:\n",
    "        for idx, url in enumerate(video_urls):\n",
    "            yt = YouTube(url)\n",
    "            yt.streams.filter(res='720p', file_extension='mp4').first().download(output_path=save_path, filename=f'video_{idx+1}.mp4')\n",
    "            print(f'Downloaded video: {yt.title}')\n",
    "    except Exception as e:\n",
    "        print(f\"Error downloading video: {url}, Error: {e}\")"
   ]
  },
  {
   "cell_type": "code",
   "execution_count": null,
   "metadata": {},
   "outputs": [],
   "source": [
    "video_urls = [\n",
    "    'https://youtu.be/WeF4wpw7w9k',\n",
    "    'https://youtu.be/2NFwY15tRtA',\n",
    "    'https://youtu.be/5dRramZVu2Q'\n",
    "]\n",
    "\n",
    "output_path = './videos'\n",
    "download_videos(video_urls, output_path)\n",
    "\n",
    "input_file_1 = \"./videos/video_1.mp4\"\n",
    "input_file_2 = \"./videos/video_2.mp4\"\n",
    "input_file_3 = \"./videos/video_3.mp4\"\n",
    "\n",
    "in_files = [input_file_1, input_file_2, input_file_3]"
   ]
  },
  {
   "cell_type": "code",
   "execution_count": null,
   "metadata": {},
   "outputs": [],
   "source": [
    "for idx, file in enumerate(in_files):\n",
    "    cap = cv2.VideoCapture(file)\n",
    "    length = int(cap.get(cv2.CAP_PROP_FRAME_COUNT))\n",
    "    width  = cap.get(cv2.CAP_PROP_FRAME_WIDTH)   \n",
    "    height = cap.get(cv2.CAP_PROP_FRAME_HEIGHT)\n",
    "\n",
    "    print(f\"Video_{idx+1} Details\")\n",
    "    print(\"Number of frames = \", length)\n",
    "    print(\"Width = \", width)\n",
    "    print(\"Height = \", height)\n",
    "    print(\"\\n\\n\")\n",
    "\n",
    "    cap.release()\n"
   ]
  },
  {
   "cell_type": "code",
   "execution_count": null,
   "metadata": {},
   "outputs": [],
   "source": [
    "def _init_kalman_filter():\n",
    "    kf = KalmanFilter(dim_x=4, dim_z=2)\n",
    "    dt = 1\n",
    "    kf.F = np.array([[1, 0, dt, 0],\n",
    "                    [0, 1, 0, dt],\n",
    "                    [0, 0, 1, 0],\n",
    "                    [0, 0, 0, 1]])\n",
    "    \n",
    "    kf.H = np.array([[1, 0, 0, 0],\n",
    "                    [0, 1, 0, 0]])\n",
    "\n",
    "    kf.P *= 1000.\n",
    "    \n",
    "    kf.R *= 0.01\n",
    "    \n",
    "    kf.Q = np.eye(4) * 0.01\n",
    "    \n",
    "    return kf"
   ]
  },
  {
   "cell_type": "code",
   "execution_count": null,
   "metadata": {},
   "outputs": [],
   "source": [
    "model = YOLO('mshamrai/yolov8s-visdrone')\n",
    "\n",
    "# set model parameters\n",
    "model.overrides['conf'] = 0.15 # NMS confidence threshold\n",
    "model.overrides['iou'] = 0.45 # NMS IoU threshold"
   ]
  },
  {
   "cell_type": "code",
   "execution_count": null,
   "metadata": {},
   "outputs": [],
   "source": [
    "cap = cv2.VideoCapture(input_file_2)\n",
    "frame_width = int(cap.get(3))\n",
    "frame_height = int(cap.get(4))\n",
    "frame_size = (frame_width,frame_height)\n",
    "fps = 30\n",
    "\n",
    "output = cv2.VideoWriter(\"det_vid_2.mp4\", cv2.VideoWriter_fourcc('m', 'p', '4', 'v'), fps, frame_size)\n",
    "\n",
    "filter_tracker = {}\n",
    "history_tracker = {}\n",
    "flag = {}\n",
    "bbox_class_id = {}\n",
    "bbox_track_id = {}\n",
    "count = -1\n",
    "none_id = -10\n",
    "\n",
    "f1 = False\n",
    "f2 = False\n",
    "\n",
    "while cap.isOpened():\n",
    "    ret, frame = cap.read()\n",
    "    if not ret:\n",
    "        break\n",
    "\n",
    "    # Perform object detection on frame\n",
    "    detections = model.predict(frame, classes = [0,3])\n",
    "    for box in detections[0].boxes:\n",
    "        if box.id is None:\n",
    "            classid = int(box.cls.item())\n",
    "            if classid == 0 and f1 == False:\n",
    "                track_id = count\n",
    "                bbox_class_id[0] = []\n",
    "                bbox_class_id[int(box.cls.item())].append([box.xywh.numpy()[0][0], box.xywh.numpy()[0][1]])\n",
    "                bbox_track_id[(box.xywh.numpy()[0][0], box.xywh.numpy()[0][1])] = count\n",
    "                count -= 1\n",
    "                f1 = True\n",
    "            elif classid == 3 and f2 == False:\n",
    "                track_id = count\n",
    "                bbox_class_id[3] = []\n",
    "                bbox_class_id[int(box.cls.item())].append([box.xywh.numpy()[0][0], box.xywh.numpy()[0][1]])\n",
    "                bbox_track_id[(box.xywh.numpy()[0][0], box.xywh.numpy()[0][1])] = count\n",
    "                count -= 1\n",
    "                f2 = True\n",
    "            else:\n",
    "                class_id = int(box.cls.item())\n",
    "                obj_flag = 0\n",
    "                for pt in reversed(bbox_class_id[class_id]):\n",
    "                    distance = math.dist(pt, box.xywh.numpy()[0][:2])\n",
    "                    if distance < 50:\n",
    "                        obj_flag = 1\n",
    "                        track_id = bbox_track_id[tuple(pt)]\n",
    "                        break\n",
    "                    if obj_flag == 0:\n",
    "                        track_id = none_id\n",
    "                        none_id -= 10\n",
    "                bbox_class_id[class_id].append([box.xywh.numpy()[0][0], box.xywh.numpy()[0][1]])\n",
    "                bbox_track_id[(box.xywh.numpy()[0][0], box.xywh.numpy()[0][1])] = track_id\n",
    "\n",
    "        else:\n",
    "            track_id = int(box.id.item())\n",
    "            class_id = int(box.cls.item())\n",
    "            bbox_class_id[class_id].append([box.xywh.numpy()[0][0], box.xywh.numpy()[0][1]])\n",
    "            bbox_track_id[(box.xywh.numpy()[0][0], box.xywh.numpy()[0][1])] = id\n",
    "\n",
    "        flag[track_id] = True\n",
    "\n",
    "    for track_id in filter_tracker:\n",
    "        if(flag[track_id] == False):\n",
    "            filter_tracker[track_id].predict()\n",
    "            pt = history_tracker[track_id][-1]\n",
    "            x_pred, y_pred = filter_tracker[track_id].x[:2]\n",
    "            cv2.line(frame, (pt[0][0].astype(int), pt[1][0].astype(int)), (x_pred[0].astype(int), y_pred[0].astype(int)), (0,255,0), 3)\n",
    "        \n",
    "    for box in detections[0].boxes:\n",
    "        bbox = box.xywh.numpy()\n",
    "        if box.id is None:\n",
    "            track_id = bbox_track_id[(box.xywh.numpy()[0][0], box.xywh.numpy()[0][1])]\n",
    "        else:\n",
    "            track_id = int(box.id.item())\n",
    "        if track_id not in filter_tracker:\n",
    "            filter_tracker[track_id] = _init_kalman_filter()\n",
    "            history_tracker[track_id] = []\n",
    "\n",
    "        filter_tracker[track_id].update(np.array([[bbox[0][0], bbox[0][1]]]))\n",
    "\n",
    "        x, y, _, _ = filter_tracker[track_id].x\n",
    "        history_tracker[track_id].append([x,y])\n",
    "        flag[track_id] = False\n",
    "\n",
    "        x1, y1 = int(bbox[0][0]), int(bbox[0][1])\n",
    "        x2, y2 = int(bbox[0][0] + bbox[0][2]), int(bbox[0][1] + bbox[0][3])\n",
    "        cv2.rectangle(frame, (x1, y1), (x2, y2), (255, 0, 0), 2)\n",
    "\n",
    "        label = \"\"\n",
    "        if int(box.cls.item()) == 0:\n",
    "            label = f\"Pedestrian, ID: {track_id}\"\n",
    "        else:\n",
    "            label = f\"Car, ID: {track_id}\"\n",
    "        cv2.putText(frame, label, (x1, y1 - 10), cv2.FONT_HERSHEY_SIMPLEX, 0.5, (255, 0, 0), 2)\n",
    "\n",
    "    output.write(frame)\n",
    "    \n",
    "    if cv2.waitKey(1) & 0xFF == ord('q'):\n",
    "        break\n",
    "\n",
    "cap.release()\n",
    "output.release()\n",
    "cv2.destroyAllWindows()"
   ]
  },
  {
   "cell_type": "markdown",
   "metadata": {},
   "source": [
    "To answer the question about how we can address false positives, we can employ a couple of startegies such as tweaking the confidence threshold and the IoU threshold. A higher IoU threshold would lead to fewer false positives. \n",
    "\n",
    "The kalman filter can analyze the history of the IoU scores for the detections. If a certain track has a consistent stream of low scores, it can be flagged as a false positive and removed."
   ]
  }
 ],
 "metadata": {
  "kernelspec": {
   "display_name": "Python 3 (ipykernel)",
   "language": "python",
   "name": "python3"
  },
  "language_info": {
   "codemirror_mode": {
    "name": "ipython",
    "version": 3
   },
   "file_extension": ".py",
   "mimetype": "text/x-python",
   "name": "python",
   "nbconvert_exporter": "python",
   "pygments_lexer": "ipython3",
   "version": "3.10.13"
  }
 },
 "nbformat": 4,
 "nbformat_minor": 4
}
