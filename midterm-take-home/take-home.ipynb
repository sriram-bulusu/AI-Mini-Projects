{
 "cells": [
  {
   "cell_type": "markdown",
   "metadata": {},
   "source": [
    "# CS-GY-66143 - MIDTERM EXAM SPRING 2024\n",
    "\n",
    "Please upload this problem in Brightspace together with your answers to the in-person portion. You need to submit your github URL and include this notebook with your answers for 1A and 1C in the same folder that you have answered 1B.  \n",
    "\n",
    "## PROBLEM 1: A JOURNEY THROUGH INFORMATION THEORY AND NEURAL NETWORKS (30 POINTS)\n",
    "\n",
    "### Introduction\n",
    "\n",
    "Information theory was introduced by Claude Shannon in 1948. It is a mathematical theory that deals with the transmission, processing, utilization, and extraction of information. It has given rise to a wide range of applications, including data compression, cryptography, error correction and fueled other industries such as AI, cellular communications and others. \n",
    "\n",
    "In this problem, we will use key concepts from information theory aiming in opening up the internals of neural networks and potentially explain how statistical learning theory and information theory can explain their behavior. \n",
    "\n",
    "The journey begins with [this reference](https://arxiv.org/abs/2206.07867) that you need to study before attempting the problem below.\n",
    "\n",
    "### PS 1A: Information Theory Basics (5 points)\n",
    "\n",
    "Let (x, y) have the following joint distribution:\n",
    "\n",
    "![](./join-distribution.png)\n",
    "\n",
    "If H is the symbol for the entropy functional, answer quantitatively showing your calculations \n",
    "\n",
    "a.  if H(x|y)=H(y|x) and if H(x) - H(x|y) =H(y)-H(y|x). \n",
    "\n",
    "![](./1a.jpg)\\\n",
    "![](./1a-a1.jpg)\\\n",
    "![](./1a-a2.jpg)\n",
    "\n",
    "b. Calculate the mutual information I(x,y) \n",
    "\n",
    "![](./1a-b.jpg)\n",
    "\n"
   ]
  },
  {
   "cell_type": "markdown",
   "metadata": {},
   "source": [
    "### PS 1B: Tishby's Information Bottleneck (20 points)\n",
    "\n",
    "In this seminal [paper](https://arxiv.org/abs/1703.00810), Tishby et al. propose a new framework for understanding the learning dynamics of deep neural networks. They argue that the learning process can be understood as an information bottleneck. This is [very nice video summary](https://www.youtube.com/watch?v=bLqJHjXihK8) of the key findings. \n",
    "\n",
    "Clone this repo https://github.com/pantelis/IDNNs and using the VSCode remote container extension, open the cloned repo in the tensorflow container. Please note the Dockerfile specification under the /docker folder - you may need to change the Dockerfile to use a CPU, for example, base image depending on your environment. \n",
    "\n",
    "a. Run the code in the repo and plot the training process on the information plane such as in the video and the figure below.\n",
    "\n",
    "![](./information-plane.jpg)\n",
    "\n",
    "\n",
    "\n",
    "This is my plotted training process on the information plane.\n",
    "\n",
    "![](./my-information-plane.png)\n",
    "\n",
    "b. Add a folder `midterm-take-home` in your existing assignments repo.  Design a CNN classification network that can classify [the CIFAR10 dataset](https://huggingface.co/datasets/cifar10)  and introduce the information measures that the IDNN repo has introduced to produce the information plane and gradient mean and variance figures. \n",
    "\n",
    "Note that IDNN repo is based on the old version of tensorflow and you need to update the code to the latest version of tensorflow or pytorch. Both frameworks they need to be in their latest (but stable) version. Luckily a good chunk of supporting functions are framework independent. \n",
    "\n",
    "The new code should be in script *.py files but a tutorial notebook must also exist that links to the functions of the scripts and using markdown cells explains what the code is trying to do. Do not hesitate to use latex formulas to explain the concepts. Your focus in this tutorial treatment is on computational aspects and not on the information theoretic bounds outlined at some point in the video.  \n"
   ]
  },
  {
   "cell_type": "markdown",
   "metadata": {},
   "source": [
    "### PS 1C: Commentary (5 points)\n",
    "\n",
    "Write a commentary on the findings of your own experiment (1B) highlighting the key findings in a similar way that Tishby et al. have done in their paper / video. \n"
   ]
  },
  {
   "cell_type": "markdown",
   "metadata": {},
   "source": [
    "- The most information is gathered in the first/input layer. \n",
    "\n",
    "- A more complex network would reach a threshold faster than a less complex network. Also, as the number of epochs increase, the network extracts more information. "
   ]
  }
 ],
 "metadata": {
  "language_info": {
   "name": "python"
  }
 },
 "nbformat": 4,
 "nbformat_minor": 2
}
